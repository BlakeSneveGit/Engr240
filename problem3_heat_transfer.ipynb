{
  "cells": [
    {
      "cell_type": "markdown",
      "metadata": {
        "id": "ciY9wfdf16KP"
      },
      "source": [
        "[![Open In Colab](https://colab.research.google.com/assets/colab-badge.svg)](https://colab.research.google.com/github/WCC-Engineering/pa1-introduction-to-python-numpy-and-data-visualization-BlakeSneveGit/blob/main/problem3_heat_transfer.ipynb)"
      ]
    },
    {
      "cell_type": "markdown",
      "metadata": {
        "id": "ucUW_BGT16KQ"
      },
      "source": [
        "**Important Note:** If you encounter a \"File not found\" error when using the Colab button, your instructor can fix this by running the \"Fix Colab Links in Student Repository\" workflow."
      ]
    },
    {
      "cell_type": "markdown",
      "metadata": {
        "id": "IPw-jdsY16KR"
      },
      "source": [
        "# Problem 3: Heat Transfer Analysis with NumPy and Matplotlib\n",
        "\n",
        "## Description\n",
        "You are studying heat transfer through a wall as temperatures change throughout the day. Use NumPy to generate and analyze temperature data and Matplotlib to visualize the heat flow.\n",
        "\n",
        "## Tasks\n",
        "1. Create a time array from 0 to 24 hours with 1-hour intervals using NumPy\n",
        "2. Generate temperature arrays for:\n",
        "   - Outside temperatures following a sinusoidal pattern: T_out = 20 + 10*sin(π*t/12), where t is time in hours\n",
        "   - Inside temperatures held constant at 22°C\n",
        "3. Calculate the temperature difference (ΔT = T_out - T_in) at each time point\n",
        "4. Calculate heat flow through the wall using: Q = k*A*ΔT/d, where:\n",
        "   - k = 0.5 W/(m·K) (thermal conductivity)\n",
        "   - A = 10 m² (wall area)\n",
        "   - d = 0.2 m (wall thickness)\n",
        "5. Determine and display as strings:\n",
        "   - Maximum and minimum heat flow values with their corresponding times\n",
        "   - Total heat energy over the 24-hour period (simple sum of hourly heat flow values)\n",
        "   - Times when heat flows inward vs. outward (when ΔT changes sign)\n",
        "6. Create a properly labeled plot showing:\n",
        "   - Outside temperature curve\n",
        "   - Inside temperature (constant) line\n",
        "   - Heat flow (positive and negative) with different colors for inward and outward flow\n",
        "   - Appropriate title, axis labels with units, and legend"
      ]
    },
    {
      "cell_type": "code",
      "execution_count": 1,
      "metadata": {
        "id": "na7Ukx0V16KS"
      },
      "outputs": [],
      "source": [
        "import numpy as np\n",
        "import matplotlib.pyplot as plt\n",
        "\n",
        "# Heat transfer parameters\n",
        "k = 0.5  # thermal conductivity (W/(m·K))\n",
        "A = 10   # wall area (m²)\n",
        "d = 0.2  # wall thickness (m)\n",
        "T_in = 22  # indoor temperature (°C)"
      ]
    },
    {
      "cell_type": "markdown",
      "metadata": {
        "id": "wfGinrXp16KT"
      },
      "source": [
        "## Task 1: Create time array\n",
        "\n",
        "Create a time array called `time` with values from 0 to 24 hours in 1-hour intervals."
      ]
    },
    {
      "cell_type": "code",
      "execution_count": 9,
      "metadata": {
        "id": "71Bkozbz16KT",
        "outputId": "310cd12c-51e2-4111-aaa4-84ce89ab681f",
        "colab": {
          "base_uri": "https://localhost:8080/"
        }
      },
      "outputs": [
        {
          "output_type": "stream",
          "name": "stdout",
          "text": [
            "[ 0  1  2  3  4  5  6  7  8  9 10 11 12 13 14 15 16 17 18 19 20 21 22 23\n",
            " 24]\n"
          ]
        }
      ],
      "source": [
        "# Your code here\n",
        "time = np.arange (0,25,1) # i did ask gemini for a list of numpy commands that create arrays, it did not create this specific code\n",
        "#print (time)"
      ]
    },
    {
      "cell_type": "markdown",
      "metadata": {
        "id": "aXX904Z_16KU"
      },
      "source": [
        "## Task 2: Generate temperature arrays\n",
        "\n",
        "Create two arrays:\n",
        "- `T_out` for outside temperatures following the sinusoidal pattern\n",
        "- `T_in_array` for the constant inside temperature"
      ]
    },
    {
      "cell_type": "code",
      "execution_count": 16,
      "metadata": {
        "id": "48UFVzdt16KU",
        "outputId": "06826968-ccc7-44d8-f8cc-80fe28a98dbc",
        "colab": {
          "base_uri": "https://localhost:8080/"
        }
      },
      "outputs": [
        {
          "output_type": "stream",
          "name": "stdout",
          "text": [
            "[20.         22.58819045 25.         27.07106781 28.66025404 29.65925826\n",
            " 30.         29.65925826 28.66025404 27.07106781 25.         22.58819045\n",
            " 20.         17.41180955 15.         12.92893219 11.33974596 10.34074174\n",
            " 10.         10.34074174 11.33974596 12.92893219 15.         17.41180955\n",
            " 20.        ]\n",
            "[22. 22. 22. 22. 22. 22. 22. 22. 22. 22. 22. 22. 22. 22. 22. 22. 22. 22.\n",
            " 22. 22. 22. 22. 22. 22. 22.]\n"
          ]
        }
      ],
      "source": [
        "# Your code here  T_out = 20 + 10sin(πt/12)\n",
        "T_out= 20 + 10 * np.sin(np.pi * time / 12) #(np.add(np.multiply(np.sin((np.multiply((np.multiply(np.pi,time)),1/12)))),10), 20) this is what i was making, then i checked with gemini informed me about broadcasting, python is weird man\n",
        "T_in_array= 22*np.ones(np.size(time)) # ayeee i did broadcasting, i asked for more info on broadcasting. it only works on numpy arrays\n",
        "#print (T_out)\n",
        "#print (T_in_array)"
      ]
    },
    {
      "cell_type": "markdown",
      "metadata": {
        "id": "72ERCrdt16KV"
      },
      "source": [
        "## Task 3: Calculate temperature difference\n",
        "\n",
        "Calculate the temperature difference and store it in an array called `delta_T`."
      ]
    },
    {
      "cell_type": "code",
      "execution_count": 20,
      "metadata": {
        "id": "4ImjU4J916KV",
        "outputId": "89e6bca6-a309-4e0b-acc4-94eea49db9ba",
        "colab": {
          "base_uri": "https://localhost:8080/",
          "height": 180
        }
      },
      "outputs": [
        {
          "output_type": "error",
          "ename": "TypeError",
          "evalue": "'numpy.ndarray' object is not callable",
          "traceback": [
            "\u001b[0;31m---------------------------------------------------------------------------\u001b[0m",
            "\u001b[0;31mTypeError\u001b[0m                                 Traceback (most recent call last)",
            "\u001b[0;32m<ipython-input-20-a316966c0466>\u001b[0m in \u001b[0;36m<cell line: 0>\u001b[0;34m()\u001b[0m\n\u001b[1;32m      1\u001b[0m \u001b[0;31m# Your code here\u001b[0m\u001b[0;34m\u001b[0m\u001b[0;34m\u001b[0m\u001b[0m\n\u001b[1;32m      2\u001b[0m \u001b[0mdelta_T\u001b[0m \u001b[0;34m=\u001b[0m \u001b[0mT_out\u001b[0m \u001b[0;34m-\u001b[0m \u001b[0mT_in_array\u001b[0m\u001b[0;34m\u001b[0m\u001b[0;34m\u001b[0m\u001b[0m\n\u001b[0;32m----> 3\u001b[0;31m \u001b[0mprint\u001b[0m \u001b[0;34m(\u001b[0m\u001b[0mdelta_T\u001b[0m\u001b[0;34m)\u001b[0m\u001b[0;34m\u001b[0m\u001b[0;34m\u001b[0m\u001b[0m\n\u001b[0m",
            "\u001b[0;31mTypeError\u001b[0m: 'numpy.ndarray' object is not callable"
          ]
        }
      ],
      "source": [
        "# Your code here\n",
        "delta_T = T_out - T_in_array\n",
        "print (delta_T)\n"
      ]
    },
    {
      "cell_type": "markdown",
      "metadata": {
        "id": "JVza_B2916KW"
      },
      "source": [
        "## Task 4: Calculate heat flow\n",
        "\n",
        "Calculate the heat flow through the wall and store it in an array called `heat_flow`."
      ]
    },
    {
      "cell_type": "code",
      "execution_count": null,
      "metadata": {
        "id": "mprI7RPh16KX"
      },
      "outputs": [],
      "source": [
        "# Your code here\n"
      ]
    },
    {
      "cell_type": "markdown",
      "metadata": {
        "id": "nDFsUeeb16KX"
      },
      "source": [
        "## Task 5: Analyze heat flow"
      ]
    },
    {
      "cell_type": "code",
      "execution_count": null,
      "metadata": {
        "id": "D_OBQzhq16KY"
      },
      "outputs": [],
      "source": [
        "# a. Find maximum and minimum heat flow\n",
        "# Create variables for maximum and minimum flow:\n",
        "# - `max_flow` for the maximum heat flow value\n",
        "# - `min_flow` for the minimum heat flow value\n",
        "# - `max_time` for the time when maximum flow occurs\n",
        "# - `min_time` for the time when minimum flow occurs\n",
        "# Your code here\n"
      ]
    },
    {
      "cell_type": "code",
      "execution_count": null,
      "metadata": {
        "id": "EhdSj1kh16KY"
      },
      "outputs": [],
      "source": [
        "# b. Calculate total heat transfer (simple sum of hourly heat flow)\n",
        "# Create a variable called `total_heat` for the total heat transfer\n",
        "# Your code here\n"
      ]
    },
    {
      "cell_type": "code",
      "execution_count": null,
      "metadata": {
        "id": "t5oHL-4U16KY"
      },
      "outputs": [],
      "source": [
        "# c. Identify times when heat flows inward vs. outward\n",
        "# Create the following variables:\n",
        "# - `inward_flow_mask` - a boolean mask where True indicates inward flow (negative heat flow)\n",
        "# - `outward_flow_mask` - a boolean mask where True indicates outward flow (positive heat flow)\n",
        "# - `inward_times_string` - a string showing times when flow is inward\n",
        "# - `outward_times_string` - a string showing times when flow is outward\n",
        "# Your code here\n"
      ]
    },
    {
      "cell_type": "markdown",
      "metadata": {
        "id": "u8xRkf5c16KY"
      },
      "source": [
        "## Task 6: Create visualization"
      ]
    },
    {
      "cell_type": "code",
      "execution_count": null,
      "metadata": {
        "id": "NmIxkziS16KZ"
      },
      "outputs": [],
      "source": [
        "# Create figure and plot data\n",
        "# Your code here\n",
        "\n",
        "\n",
        "# Add labels, title, legend, and grid\n",
        "# Your code here\n",
        "\n",
        "\n",
        "# Show the plot\n",
        "plt.tight_layout()\n",
        "plt.show()"
      ]
    }
  ],
  "metadata": {
    "kernelspec": {
      "display_name": "Python 3",
      "language": "python",
      "name": "python3"
    },
    "language_info": {
      "codemirror_mode": {
        "name": "ipython",
        "version": 3
      },
      "file_extension": ".py",
      "mimetype": "text/x-python",
      "name": "python",
      "nbconvert_exporter": "python",
      "pygments_lexer": "ipython3",
      "version": "3.8.5"
    },
    "colab": {
      "provenance": []
    }
  },
  "nbformat": 4,
  "nbformat_minor": 0
}