{
  "cells": [
    {
      "cell_type": "markdown",
      "metadata": {
        "id": "colab-button"
      },
      "source": [
        "[![Open In Colab](https://colab.research.google.com/assets/colab-badge.svg)](https://colab.research.google.com/github/WCC-Engineering/ENGR240/blob/main/Class%20Demos%20and%20Activities/Week%203/worksheet3-1_template.ipynb)"
      ]
    },
    {
      "cell_type": "markdown",
      "metadata": {
        "id": "introduction"
      },
      "source": [
        "#Worksheet 3.1 Bisection Method Progressive Implementation\n",
        "\n",
        "The bisection method is a numerical technique for finding roots of a function, which are the values of $x$ where $f(x) = 0$. This algorithm works by repeatedly dividing an interval and selecting the subinterval where the function changes sign.\n",
        "\n",
        "## How the Bisection Method Works\n",
        "\n",
        "1. Start with an interval $[a, b]$ where $f(a)$ and $f(b)$ have opposite signs\n",
        "2. Find the midpoint $c = \\frac{a + b}{2}$\n",
        "3. Evaluate $f(c)$\n",
        "4. If $f(c) \\approx 0$ (within tolerance), return $c$ as the root\n",
        "5. If $f(a)$ and $f(c)$ have opposite signs, set $b = c$\n",
        "6. Otherwise, set $a = c$\n",
        "7. Repeat steps 2-6 until convergence or maximum iterations reached\n",
        "\n",
        "In this notebook, we'll build up the bisection method through several versions with increasing complexity and functionality."
      ]
    },
    {
      "cell_type": "code",
      "execution_count": 1,
      "metadata": {
        "id": "setup"
      },
      "source": [
        "import numpy as np\n",
        "import matplotlib.pyplot as plt"
      ],
      "outputs": []
    },
    {
      "cell_type": "markdown",
      "metadata": {
        "id": "version1-intro"
      },
      "source": [
        "## Version 1: Basic Implementation\n",
        "\n",
        "Let's start with a bare-bones implementation of the bisection method with minimal error checking and no default values."
      ]
    },
    {
      "cell_type": "code",
      "execution_count": 2,
      "metadata": {
        "id": "version1"
      },
      "source": [
        "def bisection_v1(f, a, b, tol, max_iter):\n",
        "    \"\"\"\n",
        "    Basic bisection method for finding a root of f(x) = 0.\n",
        "\n",
        "    Parameters:\n",
        "    f : function\n",
        "        The function for which we want to find the root\n",
        "    a, b : float\n",
        "        The interval [a, b] where we search for the root\n",
        "    tol : float\n",
        "        Tolerance for stopping criterion\n",
        "    max_iter : int\n",
        "        Maximum number of iterations\n",
        "\n",
        "    Returns:\n",
        "    float: The estimated root\n",
        "    \"\"\"\n",
        "    # Evaluate function at interval endpoints\n",
        "    fa = f(a)\n",
        "    fb = f(b)\n",
        "\n",
        "    # Check if the function changes sign in the interval\n",
        "    if fa * fb > 0:\n",
        "        raise ValueError(\"Function must have opposite signs at interval endpoints\")\n",
        "\n",
        "    # Initialize iteration counter and ea\n",
        "    iter_count = 0\n",
        "    ea = tol+1\n",
        "    # Bisection loop\n",
        "    while ea > tol and iter_count < max_iter:\n",
        "        # Find midpoint\n",
        "        c = (a + b) / 2\n",
        "        fc = f(c)\n",
        "        if c != 0:\n",
        "            ea = abs((c-a)/c)\n",
        "        # Check if we found the root exactly\n",
        "        if fc == 0:\n",
        "            return c, 0\n",
        "\n",
        "        # Update interval\n",
        "        if fa * fc < 0:\n",
        "            b = c\n",
        "            fb = fc\n",
        "        else:\n",
        "            a = c\n",
        "            fa = fc\n",
        "\n",
        "        iter_count += 1\n",
        "\n",
        "    # Return approximation of the root\n",
        "    return c, ea"
      ],
      "outputs": []
    },
    {
      "cell_type": "markdown",
      "metadata": {
        "id": "test-v1-intro"
      },
      "source": [
        "Let's test this basic implementation with a function that has no analytical solution: $2x^2 = e^{x/2} + 3$, which we'll rearrange as $f(x) = 2x^2 - e^{x/2} - 3 = 0$."
      ]
    },
    {
      "cell_type": "code",
      "execution_count": 3,
      "metadata": {
        "id": "test-v1",
        "colab": {
          "base_uri": "https://localhost:8080/",
          "height": 608
        },
        "outputId": "05573f66-2962-410c-a851-1f40f5551db2"
      },
      "source": [
        "def f1(x):\n",
        "    \"\"\"Function: f(x) = 2x^2 - e^(x/2) - 3\"\"\"\n",
        "    return 2*x**2 - np.exp(x/2) - 3\n",
        "\n",
        "# Find the positive root\n",
        "root, approx_error = bisection_v1(f1, 1, 2, 1e-6, 100)\n",
        "print(f\"Root found: {root}\")\n",
        "print(f\"Approx relative error: {approx_error}\")\n",
        "print(f\"Function value at root (residual): {f1(root)}\")\n",
        "\n",
        "# Visualize the function and the root\n",
        "x = np.linspace(0, 2.5, 1000)\n",
        "y = f1(x)\n",
        "\n",
        "plt.figure(figsize=(10, 6))\n",
        "plt.plot(x, y, 'b-', label='f(x) = 2x² - e^(x/2) - 3')\n",
        "plt.axhline(y=0, color='k', linestyle='-', alpha=0.3)\n",
        "plt.axvline(x=root, color='r', linestyle='--', label=f'Root at x ≈ {root:.6f}')\n",
        "plt.grid(True)\n",
        "plt.xlabel('x')\n",
        "plt.ylabel('f(x)')\n",
        "plt.title('Function with Root Found by Bisection Method')\n",
        "plt.legend()\n",
        "plt.show()"
      ],
      "outputs": [
        {
          "output_type": "stream",
          "name": "stdout",
          "text": [
            "Root found: 1.6198339462280273\n",
            "Approx relative error: 5.887481976945798e-07\n",
            "Function value at root (residual): 2.6690812520158147e-06\n"
          ]
        },
        {
          "output_type": "display_data",
          "data": {
            "text/plain": [
              "<Figure size 1000x600 with 1 Axes>"
            ],
            "image/png": "[encoded data removed]"
          },
          "metadata": {}
        }
      ]
    },
    {
      "cell_type": "markdown",
      "source": [
        "###Task 1: Understanding the Algorithm\n",
        "Work by hand to execute at least three iterations of the bisection method to solve for the root between a = 1 and b = 2.  You should be able to select appropriate brackets for each iteration by visual inspection of the figure above.  You might find it helpful to draw the brackets for each iteration on the figure above.  Enter the results of your hand calculation in the following table.\n",
        "\n",
        "|Iteration|a|b|c|e<sub>a</sub>|f(c)|\n",
        "|:---:|---|---|---|---|---|\n",
        "|1|1|2|1.5|.33|-.617|\n",
        "|2|---|---|---|---|---|\n",
        "|3|---|---|---|---|---|\n",
        "|4|---|---|---|---|---|"
      ],
      "metadata": {
        "id": "VHfd_OFeQ7ZP"
      }
    },
    {
      "cell_type": "markdown",
      "metadata": {
        "id": "version2-intro"
      },
      "source": [
        "## Version 2: Improved Implementation with Validation and Defaults\n",
        "\n",
        "Now, let's enhance the bisection method by adding:\n",
        "1. Input parameter validation\n",
        "2. Default values for tolerance and maximum iterations\n",
        "3. Better return values including iteration count and error estimate"
      ]
    },
    {
      "cell_type": "code",
      "execution_count": null,
      "metadata": {
        "id": "version2"
      },
      "source": [
        "def bisection_v2(f, a, b, tol=1e-6, max_iter=100):\n",
        "    \"\"\"\n",
        "    Improved bisection method with input validation and default parameters.\n",
        "\n",
        "    Parameters:\n",
        "    f : function\n",
        "        The function for which we want to find the root\n",
        "    a, b : float\n",
        "        The interval [a, b] where we search for the root\n",
        "    tol : float, optional\n",
        "        Tolerance for stopping criterion (default: 1e-6)\n",
        "    max_iter : int, optional\n",
        "        Maximum number of iterations (default: 100)\n",
        "\n",
        "    Returns:\n",
        "    tuple: (root, iterations, error_estimate)\n",
        "        - root: The estimated root\n",
        "        - iterations: Number of iterations performed\n",
        "        - error_estimate: Estimated error (half of the final interval width)\n",
        "    \"\"\"\n",
        "    # Input validation\n",
        "    if not callable(f):\n",
        "        raise TypeError(\"f must be a callable function\")\n",
        "\n",
        "    if not (np.isscalar(a) and np.isscalar(b)):\n",
        "        raise TypeError(\"a and b must be scalar values\")\n",
        "\n",
        "    if a >= b:\n",
        "        raise ValueError(\"a must be less than b\")\n",
        "\n",
        "    if tol <= 0:\n",
        "        raise ValueError(\"Tolerance must be positive\")\n",
        "\n",
        "    if max_iter <= 0 or not isinstance(max_iter, int):\n",
        "        raise ValueError(\"Maximum iterations must be a positive integer\")\n",
        "\n",
        "    # Evaluate function at interval endpoints\n",
        "    fa = f(a)\n",
        "    fb = f(b)\n",
        "\n",
        "    # Check if one of the endpoints is a root\n",
        "    if fa == 0:\n",
        "        return a, 0, 0\n",
        "    if fb == 0:\n",
        "        return b, 0, 0\n",
        "\n",
        "    # Check if the function changes sign in the interval\n",
        "    if fa * fb > 0:\n",
        "        raise ValueError(f\"Function must have opposite signs at interval endpoints: f({a}) = {fa}, f({b}) = {fb}\")\n",
        "\n",
        "    # Initialize iteration counter and ea\n",
        "    iter_count = 0\n",
        "    ea = tol + 1\n",
        "    # Bisection loop\n",
        "    while ea > tol and iter_count < max_iter:\n",
        "        # Find midpoint\n",
        "        c = (a + b) / 2\n",
        "        fc = f(c)\n",
        "        if c != 0:\n",
        "            ea = abs((c-a)/c)\n",
        "        # Check if we found the root exactly\n",
        "        if fc == 0:\n",
        "            return c, iter_count + 1, 0\n",
        "\n",
        "        # Update interval\n",
        "        if fa * fc < 0:\n",
        "            b = c\n",
        "            fb = fc\n",
        "        else:\n",
        "            a = c\n",
        "            fa = fc\n",
        "\n",
        "        iter_count += 1\n",
        "\n",
        "    return c, iter_count, ea"
      ],
      "outputs": []
    },
    {
      "cell_type": "markdown",
      "metadata": {
        "id": "test-v2-intro"
      },
      "source": [
        "Let's test this improved implementation with the same function and see the additional information it provides."
      ]
    },
    {
      "cell_type": "code",
      "execution_count": null,
      "metadata": {
        "id": "test-v2",
        "outputId": "60658147-6e2f-449d-deb0-bc2d55ea52e6",
        "colab": {
          "base_uri": "https://localhost:8080/"
        }
      },
      "source": [
        "# Test with default parameters\n",
        "root, iterations, error = bisection_v2(f1, 1, 2)\n",
        "print(f\"Root found: {root}\")\n",
        "print(f\"Function value at root (residual): {f1(root)}\")\n",
        "print(f\"Iterations performed: {iterations}\")\n",
        "print(f\"Approximate relative error: {error}\")\n",
        "\n",
        "# Test with custom parameters\n",
        "root2, iterations2, error2 = bisection_v2(f1, 1, 2, tol=1e-10, max_iter=50)\n",
        "print(f\"\\nWith higher precision:\")\n",
        "print(f\"Root found: {root2}\")\n",
        "print(f\"Function value at root: {f1(root2)}\")\n",
        "print(f\"Iterations performed: {iterations2}\")\n",
        "print(f\"Approximate relative error: {error2}\")"
      ],
      "outputs": [
        {
          "output_type": "stream",
          "name": "stdout",
          "text": [
            "Root found: 1.6198339462280273\n",
            "Function value at root (residual): 2.6690812520158147e-06\n",
            "Iterations performed: 20\n",
            "Approximate relative error: 5.887481976945798e-07\n",
            "\n",
            "With higher precision:\n",
            "Root found: 1.6198334478540346\n",
            "Function value at root: 5.2167603570296706e-11\n",
            "Iterations performed: 33\n",
            "Approximate relative error: 7.186869858821755e-11\n"
          ]
        }
      ]
    },
    {
      "cell_type": "markdown",
      "metadata": {
        "id": "compare-v1-v2"
      },
      "source": [
        "### Comparing Version 1 and Version 2\n",
        "\n",
        "Key improvements in Version 2:\n",
        "\n",
        "1. **Default parameters**: Users can omit tolerance and max_iter parameters\n",
        "2. **Input validation**: Catches problems early with clear error messages\n",
        "3. **Enhanced return values**: Returns not just the root but also number of iterations and error estimate\n",
        "4. **Edge case handling**: Special cases like roots at endpoints are handled correctly\n",
        "5. **Better error messages**: More informative error messages with function values"
      ]
    },
    {
      "cell_type": "markdown",
      "metadata": {
        "id": "version3-intro"
      },
      "source": [
        "## Version 3: General Purpose Implementation with *args\n",
        "\n",
        "Now, let's make the function more flexible by allowing additional parameters to be passed to the function we're finding the root of. This is important for parametric functions where we need to pass additional values to the function."
      ]
    },
    {
      "cell_type": "code",
      "execution_count": null,
      "metadata": {
        "id": "version3"
      },
      "source": [
        "def bisection_v3(f, a, b, tol=1e-6, max_iter=100, *args):\n",
        "    \"\"\"\n",
        "    General purpose bisection method with *args support.\n",
        "\n",
        "    Parameters:\n",
        "    f : function\n",
        "        The function for which we want to find the root\n",
        "    a, b : float\n",
        "        The interval [a, b] where we search for the root\n",
        "    tol : float, optional\n",
        "        Tolerance for stopping criterion (default: 1e-6)\n",
        "    max_iter : int, optional\n",
        "        Maximum number of iterations (default: 100)\n",
        "    *args : additional arguments\n",
        "        Additional arguments to pass to function f\n",
        "\n",
        "    Returns:\n",
        "    tuple: (root, iterations, error_estimate, converged)\n",
        "        - root: The estimated root\n",
        "        - iterations: Number of iterations performed\n",
        "        - error_estimate: Estimated error (half of the final interval width)\n",
        "        - converged: Boolean indicating whether the method converged\n",
        "    \"\"\"\n",
        "    # Input validation\n",
        "    if not callable(f):\n",
        "        raise TypeError(\"f must be a callable function\")\n",
        "\n",
        "    if not (np.isscalar(a) and np.isscalar(b)):\n",
        "        raise TypeError(\"a and b must be scalar values\")\n",
        "\n",
        "    if a >= b:\n",
        "        raise ValueError(\"a must be less than b\")\n",
        "\n",
        "    if tol <= 0:\n",
        "        raise ValueError(\"Tolerance must be positive\")\n",
        "\n",
        "    if max_iter <= 0 or not isinstance(max_iter, int):\n",
        "        raise ValueError(\"Maximum iterations must be a positive integer\")\n",
        "\n",
        "    # Evaluate function at interval endpoints\n",
        "    fa = f(a, *args)\n",
        "    fb = f(b, *args)\n",
        "\n",
        "    # Check if one of the endpoints is a root\n",
        "    if fa == 0:\n",
        "        return a, 0, 0, True\n",
        "    if fb == 0:\n",
        "        return b, 0, 0, True\n",
        "\n",
        "    # Check if the function changes sign in the interval\n",
        "    if fa * fb > 0:\n",
        "        raise ValueError(f\"Function must have opposite signs at interval endpoints: f({a}) = {fa}, f({b}) = {fb}\")\n",
        "\n",
        "    # Initialize iteration counter and ea\n",
        "    iter_count = 0\n",
        "    ea = tol + 1\n",
        "\n",
        "    # Bisection loop\n",
        "    while ea > tol and iter_count < max_iter:\n",
        "        # Find midpoint\n",
        "        c = (a + b) / 2\n",
        "        fc = f(c, *args)\n",
        "        if c != 0:\n",
        "            ea = abs((c-a)/c)\n",
        "\n",
        "        # Check if we found the root exactly\n",
        "        if fc == 0:\n",
        "            return c, iter_count + 1, 0, True\n",
        "\n",
        "        # Update interval\n",
        "        if fa * fc < 0:\n",
        "            b = c\n",
        "            fb = fc\n",
        "        else:\n",
        "            a = c\n",
        "            fa = fc\n",
        "\n",
        "        iter_count += 1\n",
        "\n",
        "    # Check if we converged\n",
        "    converged = iter_count < max_iter\n",
        "\n",
        "    return c, iter_count, ea, converged"
      ],
      "outputs": []
    },
    {
      "cell_type": "markdown",
      "metadata": {
        "id": "test-v3-intro"
      },
      "source": [
        "Let's test this with a function that requires additional parameters: a quadratic function $f(x) = ax^2 + bx + c$."
      ]
    },
    {
      "cell_type": "code",
      "execution_count": null,
      "metadata": {
        "id": "test-v3"
      },
      "source": [
        "def f2(x, a, b, c):\n",
        "    \"\"\"Polynomial function a*x^2 + b*x + c\"\"\"\n",
        "    return a*x**2 + b*x + c\n",
        "\n",
        "# Find the root of the quadratic function 2x^2 - 5x + 2\n",
        "# (which has roots at x = 0.5 and x = 2)\n",
        "a, b, c = 2, -5, 2\n",
        "root, iterations, error, converged = bisection_v3(f2, 0, 1, 1e-8, 100, a, b, c)\n",
        "\n",
        "print(f\"Root found: {root}\")\n",
        "print(f\"Function value at root: {f2(root, a, b, c)}\")\n",
        "print(f\"Iterations performed: {iterations}\")\n",
        "print(f\"Estimated error: {error}\")\n",
        "print(f\"Converged: {converged}\")\n",
        "\n",
        "# Try another root\n",
        "root2, iterations2, error2, converged2 = bisection_v3(f2, 1, 3, 1e-8, 100, a, b, c)\n",
        "\n",
        "print(f\"\\nSecond root found: {root2}\")\n",
        "print(f\"Function value at root: {f2(root2, a, b, c)}\")\n",
        "print(f\"Iterations performed: {iterations2}\")\n",
        "print(f\"Estimated error: {error2}\")\n",
        "print(f\"Converged: {converged2}\")\n",
        "\n",
        "# Visualize the function and both roots\n",
        "x = np.linspace(0, 3, 1000)\n",
        "y = f2(x, a, b, c)\n",
        "\n",
        "plt.figure(figsize=(10, 6))\n",
        "plt.plot(x, y, 'b-', label=f'f(x) = {a}x² {b:+}x {c:+}')\n",
        "plt.axhline(y=0, color='k', linestyle='-', alpha=0.3)\n",
        "plt.axvline(x=root, color='r', linestyle='--', label=f'Root 1 at x ≈ {root:.6f}')\n",
        "plt.axvline(x=root2, color='g', linestyle='--', label=f'Root 2 at x ≈ {root2:.6f}')\n",
        "plt.grid(True)\n",
        "plt.xlabel('x')\n",
        "plt.ylabel('f(x)')\n",
        "plt.title('Quadratic Function with Roots Found by Bisection Method')\n",
        "plt.legend()\n",
        "plt.show()"
      ],
      "outputs": []
    },
    {
      "cell_type": "markdown",
      "metadata": {
        "id": "convergence-intro"
      },
      "source": [
        "## Relationship Between Iteration Count and Stopping Tolerance\n",
        "\n",
        "Now, let's create a visualization to understand how the iteration count changes as we reduce the tolerance. This helps us understand the efficiency of the bisection method."
      ]
    },
    {
      "cell_type": "code",
      "execution_count": null,
      "metadata": {
        "id": "convergence-study"
      },
      "source": [
        "def study_tolerance_vs_iterations(f, a, b, tol_range, *args):\n",
        "    \"\"\"\n",
        "    Study how iteration count varies with tolerance.\n",
        "\n",
        "    Parameters:\n",
        "    f : function\n",
        "        The function for which we want to find the root\n",
        "    a, b : float\n",
        "        The interval [a, b] where we search for the root\n",
        "    tol_range : array-like\n",
        "        Range of tolerance values to test\n",
        "    *args : additional arguments\n",
        "        Additional arguments to pass to function f\n",
        "\n",
        "    Returns:\n",
        "    tuple: (tolerance_values, iteration_counts)\n",
        "    \"\"\"\n",
        "    tolerance_values = []\n",
        "    iteration_counts = []\n",
        "\n",
        "    for tol in tol_range:\n",
        "        _, iterations, _, _ = bisection_v3(f, a, b, tol, 1000, *args)\n",
        "        tolerance_values.append(tol)\n",
        "        iteration_counts.append(iterations)\n",
        "\n",
        "    return tolerance_values, iteration_counts\n",
        "\n",
        "# Set up a range of tolerance values (logarithmic scale)\n",
        "tolerances = np.logspace(-15, -1, 15)  # From 10^-15 to 10^-1\n",
        "\n",
        "# Study iteration count for different functions\n",
        "tol_values1, iter_counts1 = study_tolerance_vs_iterations(f1, 1, 2, tolerances)\n",
        "tol_values2, iter_counts2 = study_tolerance_vs_iterations(f1, -2, -1, tolerances)\n",
        "\n",
        "# Plot the results\n",
        "plt.figure(figsize=(12, 7))\n",
        "plt.loglog(tol_values1, iter_counts1, 'o-', label='f(x) = 2x²-e^(x/2)-3, root in [1,2]')\n",
        "plt.loglog(tol_values2, iter_counts2, 's-', label='f(x) = 2x²-e^(x/2)-3, root in [-2,-1]')\n",
        "\n",
        "plt.grid(True, which=\"both\", ls=\"-\")\n",
        "plt.xlabel('Tolerance')\n",
        "plt.ylabel('Number of Iterations')\n",
        "plt.title('Bisection Method: Iterations vs. Tolerance')\n",
        "plt.legend()\n",
        "plt.show()"
      ],
      "outputs": []
    },
    {
      "cell_type": "markdown",
      "metadata": {
        "id": "theoretical-comparison"
      },
      "source": [
        "### Theoretical Relationship\n",
        "\n",
        "The theoretical relationship between tolerance and the number of iterations in the bisection method is:\n",
        "\n",
        "$$\\text{iterations} \\approx \\log_2 \\left(\\frac{b-a}{\\text{tolerance}}\\right)$$\n",
        "\n",
        "Let's verify this relationship by plotting the theoretical line alongside our observed data."
      ]
    },
    {
      "cell_type": "code",
      "execution_count": null,
      "metadata": {
        "id": "theoretical-plot"
      },
      "source": [
        "# Calculate theoretical iterations for each function\n",
        "tolerance_values = np.array(tol_values1)\n",
        "theoretical_iter1 = np.log2((2 - 1) / tolerance_values)  # For f1, interval [1, 2]\n",
        "theoretical_iter2 = np.log2((-1 - -2) / tolerance_values)  # For f2, interval [-2, -1]\n",
        "\n",
        "plt.figure(figsize=(12, 7))\n",
        "plt.loglog(tolerance_values, theoretical_iter1, 'k--', label='Theoretical: log₂((b-a)/tol) for interval [1,2]')\n",
        "plt.loglog(tolerance_values, theoretical_iter2, 'k-.', label='Theoretical: log₂((b-a)/tol) for interval [-2,-1]')\n",
        "plt.loglog(tol_values1, iter_counts1, 'o-', label='f(x) = 2x²-e^(x/2)-3, root in [1,2]')\n",
        "plt.loglog(tol_values2, iter_counts2, 's-', label='f(x) = 2x²-e^(x/2)-3, root in [-2,1]')\n",
        "plt.grid(True, which=\"both\", ls=\"-\")\n",
        "plt.xlabel('Tolerance')\n",
        "plt.ylabel('Number of Iterations')\n",
        "plt.title('Bisection Method: Iterations vs. Tolerance (with Theoretical Lines)')\n",
        "plt.legend()\n",
        "plt.show()"
      ],
      "outputs": []
    },
    {
      "cell_type": "markdown",
      "source": [
        "##Task 2: Explore an example roots problem of your own design\n",
        "Step 1. Come up with your own roots problem $f(x)=0$. Hint: Think of a function that has $x$ both inside and outside of a trig function, logarithm, etc...Use Desmos to quickly generate a graph to see if/where the roots exist and adjust parameter values to make sure the function crosses the $x$-axis.\n",
        "Step 2. Modify the code blocks above to\n",
        "* Add a function definion of your roots problem\n",
        "* Add your roots problem to the study on relationship between iteration count and stopping tolerance\n",
        "* Add your roots problem to the theoretical relationship comparison visualization"
      ],
      "metadata": {
        "id": "eUcJODsG9V_H"
      }
    },
    {
      "cell_type": "markdown",
      "metadata": {
        "id": "conclusion"
      },
      "source": [
        "## Summary\n",
        "\n",
        "In this notebook, we developed the bisection method through three progressive implementations:\n",
        "\n",
        "1. A basic implementation with minimal features\n",
        "2. An improved version with parameter validation and defaults\n",
        "3. A general-purpose version supporting additional function parameters\n",
        "\n",
        "We also analyzed how the iteration count scales with tolerance, confirming the theoretical relationship:\n",
        "$$\\text{iterations} \\approx \\log_2 \\left(\\frac{b-a}{\\text{tolerance}}\\right)$$\n",
        "\n",
        "Key observations:\n",
        "- The bisection method is reliable but converges linearly (logarithmically with tolerance)\n",
        "- For each step, we reduce the uncertainty by a factor of 2\n",
        "- The initial interval size significantly affects the number of iterations required\n",
        "- The method is guaranteed to converge for continuous functions with sign changes\n",
        "\n",
        "For more complex functions or faster convergence, consider other root-finding methods like Newton-Raphson or the secant method, which typically have faster convergence rates."
      ]
    }
  ],
  "metadata": {
    "colab": {
      "name": "bisection_method_demo.ipynb",
      "provenance": []
    },
    "kernelspec": {
      "display_name": "Python 3",
      "language": "python",
      "name": "python3"
    },
    "language_info": {
      "codemirror_mode": {
        "name": "ipython",
        "version": 3
      },
      "file_extension": ".py",
      "mimetype": "text/x-python",
      "name": "python",
      "nbconvert_exporter": "python",
      "pygments_lexer": "ipython3",
      "version": "3.8.5"
    }
  },
  "nbformat": 4,
  "nbformat_minor": 0
}