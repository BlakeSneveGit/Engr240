{
  "cells": [
    {
      "cell_type": "markdown",
      "metadata": {
        "id": "oDJY66onFIw-"
      },
      "source": [
        "[![Open In Colab](https://colab.research.google.com/assets/colab-badge.svg)](https://colab.research.google.com/github/WCC-Engineering/pa1-introduction-to-python-numpy-and-data-visualization-BlakeSneveGit/blob/main/problem1_chemical_kinetics.ipynb)"
      ]
    },
    {
      "cell_type": "markdown",
      "metadata": {
        "id": "fk8CIn_HFIw_"
      },
      "source": [
        "# Problem 1: Chemical Reaction Kinetics Analysis\n",
        "\n",
        "## Description\n",
        "You are a chemical engineer analyzing reaction kinetics for a chemical process. Use Python's mathematical capabilities to calculate reaction rates, activation energies, and concentration changes.\n",
        "\n",
        "## Tasks\n",
        "1. Calculate the reaction rate constant (k) using the Arrhenius equation: k = A * e^(-Ea/(R*T)), where:\n",
        "   - A = 2.8 × 10^11 s^-1 (frequency factor)\n",
        "   - Ea = 88000 J/mol (activation energy)\n",
        "   - R = 8.314 J/(mol·K) (gas constant)\n",
        "   - T = 320 K (temperature)\n",
        "2. Calculate how the rate constant changes if temperature increases to 350 K and 380 K\n",
        "3. Calculate the half-life of a first-order reaction: t1/2 = ln(2)/k\n",
        "4. For an initial reactant concentration of [A]0 = 0.5 mol/L, calculate the concentration after 30 seconds using: [A]t = [A]0 * e^(-k*t)\n",
        "5. Calculate the time needed for the concentration to reach 0.1 mol/L using: t = -ln([A]t/[A]0)/k\n",
        "6. Create string variables with appropriate units for each result and print formatted output statements for:\n",
        "   - Rate constant at each temperature (as \"k = X s^-1 at Y K\")\n",
        "   - Half-life (as \"Half-life = X seconds\")\n",
        "   - Concentration after 30 seconds (as \"Concentration after 30s = X mol/L\")\n",
        "   - Time to reach 0.1 mol/L (as \"Time to reach 0.1 mol/L = X seconds\")"
      ]
    },
    {
      "cell_type": "code",
      "execution_count": 7,
      "metadata": {
        "id": "oYbjULAUFIxA"
      },
      "outputs": [],
      "source": [
        "import math\n",
        "import numpy as np\n",
        "\n",
        "# Given constants\n",
        "A = 2.8e11  # frequency factor (s^-1)\n",
        "Ea = 88000  # activation energy (J/mol)\n",
        "R = 8.314   # gas constant (J/(mol·K))\n",
        "initial_temp = 320  # initial temperature (K)\n",
        "temp_increase1 = 350  # first increased temperature (K)\n",
        "temp_increase2 = 380  # second increased temperature (K)\n",
        "initial_concentration = 0.5  # initial concentration (mol/L)\n",
        "time_elapsed = 30  # time elapsed (s)\n",
        "target_concentration = 0.1  # target concentration (mol/L)"
      ]
    },
    {
      "cell_type": "markdown",
      "metadata": {
        "id": "XTB5Hm7dFIxB"
      },
      "source": [
        "## Task 1: Calculate the reaction rate constant at the initial temperature\n",
        "\n",
        "Calculate the initial rate constant and store it in a variable named `k_initial`."
      ]
    },
    {
      "cell_type": "code",
      "execution_count": 10,
      "metadata": {
        "colab": {
          "base_uri": "https://localhost:8080/"
        },
        "id": "hccAhjE7FIxC",
        "outputId": "ede8f0b5-a467-4f6a-e977-98a164cec672"
      },
      "outputs": [
        {
          "output_type": "stream",
          "name": "stdout",
          "text": [
            "0.0012081287643814745\n"
          ]
        }
      ],
      "source": [
        "# Your code here\n",
        "k_initial = A * np.exp(-Ea/(R*initial_temp))\n",
        "#print(k_initial)"
      ]
    },
    {
      "cell_type": "markdown",
      "metadata": {
        "id": "6QM0Iy95FIxD"
      },
      "source": [
        "## Task 2: Calculate rate constants at increased temperatures\n",
        "\n",
        "Calculate the rate constants at the increased temperatures and store them in variables named `k_increase1` and `k_increase2`."
      ]
    },
    {
      "cell_type": "code",
      "execution_count": 12,
      "metadata": {
        "id": "-kt1YFX_FIxD",
        "outputId": "9195b630-4cf9-4626-d8bc-756dd394132a",
        "colab": {
          "base_uri": "https://localhost:8080/"
        }
      },
      "outputs": [
        {
          "output_type": "stream",
          "name": "stdout",
          "text": [
            "0.019369853067329842\n",
            "0.22280743578980072\n"
          ]
        }
      ],
      "source": [
        "# Your code here\n",
        "K_increase1= A * np.exp(-Ea/(R*temp_increase1))-k_initial\n",
        "K_increase2= A * np.exp(-Ea/(R*temp_increase2))-k_initial\n",
        "#print (K_increase1)\n",
        "#print (K_increase2)"
      ]
    },
    {
      "cell_type": "code",
      "source": [],
      "metadata": {
        "id": "lajyf8mWNcyV"
      },
      "execution_count": 12,
      "outputs": []
    },
    {
      "cell_type": "markdown",
      "metadata": {
        "id": "HD23rMQNFIxE"
      },
      "source": [
        "## Task 3: Calculate the half-life\n",
        "\n",
        "Calculate the half-life and store it in a variable named `half_life`."
      ]
    },
    {
      "cell_type": "code",
      "execution_count": 13,
      "metadata": {
        "id": "9Qal6INOFIxE",
        "outputId": "b8a3f7fb-ffe6-4cdc-da97-d98a971e6471",
        "colab": {
          "base_uri": "https://localhost:8080/"
        }
      },
      "outputs": [
        {
          "output_type": "stream",
          "name": "stdout",
          "text": [
            "573.7361786223306\n"
          ]
        }
      ],
      "source": [
        "# Your code here\n",
        "half_life = np.log(2)/k_initial\n",
        "# print(half_life) # = 573.7361786223306  seems reasonable"
      ]
    },
    {
      "cell_type": "markdown",
      "metadata": {
        "id": "1jjCOznlFIxF"
      },
      "source": [
        "## Task 4: Calculate concentration after 30 seconds\n",
        "\n",
        "Calculate the concentration after 30 seconds and store it in a variable named `concentration`."
      ]
    },
    {
      "cell_type": "code",
      "execution_count": 17,
      "metadata": {
        "id": "1yXqCpDJFIxG",
        "outputId": "9288277e-21e0-4a36-a638-747175f9c288",
        "colab": {
          "base_uri": "https://localhost:8080/"
        }
      },
      "outputs": [
        {
          "output_type": "stream",
          "name": "stdout",
          "text": [
            "0.48220254107709637\n"
          ]
        }
      ],
      "source": [
        "# Your code here\n",
        "concentration =  initial_concentration*np.exp(-k_initial*30)\n",
        "# print (concentration)"
      ]
    },
    {
      "cell_type": "markdown",
      "metadata": {
        "id": "TwRuIFebFIxG"
      },
      "source": [
        "## Task 5: Calculate time to reach target concentration\n",
        "\n",
        "Calculate the time to reach the target concentration and store it in a variable named `time_to_target`."
      ]
    },
    {
      "cell_type": "code",
      "execution_count": 27,
      "metadata": {
        "id": "yBoZ35JaFIxG",
        "outputId": "3caaaac1-ecc5-4bcf-ea0b-219773d30a4e",
        "colab": {
          "base_uri": "https://localhost:8080/"
        }
      },
      "outputs": [
        {
          "output_type": "stream",
          "name": "stdout",
          "text": [
            "1332.1741521965037\n"
          ]
        }
      ],
      "source": [
        "# Your code here\n",
        "time_to_target = -np.log(target_concentration /initial_concentration)/k_initial\n",
        "# print (time_to_target)"
      ]
    },
    {
      "cell_type": "markdown",
      "metadata": {
        "id": "SUbi4e0QFIxH"
      },
      "source": [
        "## Task 6: Create and print formatted output strings"
      ]
    },
    {
      "cell_type": "code",
      "execution_count": 28,
      "metadata": {
        "id": "d2NpC0QhFIxH",
        "outputId": "26811b6d-b042-410e-bfcb-64456063e41f",
        "colab": {
          "base_uri": "https://localhost:8080/"
        }
      },
      "outputs": [
        {
          "output_type": "stream",
          "name": "stdout",
          "text": [
            "0.0012081287643814745\n",
            "0.019369853067329842\n",
            "0.22280743578980072\n",
            "573.7361786223306\n",
            "0.48220254107709637\n",
            "1332.1741521965037\n"
          ]
        }
      ],
      "source": [
        "# Your code here\n",
        "print (k_initial)\n",
        "print (K_increase1)\n",
        "print (K_increase2)\n",
        "print (half_life)\n",
        "print (concentration)\n",
        "print (time_to_target)\n"
      ]
    }
  ],
  "metadata": {
    "kernelspec": {
      "display_name": "Python 3",
      "language": "python",
      "name": "python3"
    },
    "language_info": {
      "codemirror_mode": {
        "name": "ipython",
        "version": 3
      },
      "file_extension": ".py",
      "mimetype": "text/x-python",
      "name": "python",
      "nbconvert_exporter": "python",
      "pygments_lexer": "ipython3",
      "version": "3.8.5"
    },
    "colab": {
      "provenance": []
    }
  },
  "nbformat": 4,
  "nbformat_minor": 0
}