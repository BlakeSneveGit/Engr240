{
  "cells": [
    {
      "cell_type": "markdown",
      "metadata": {
        "id": "7NYqyz9f5Zcf"
      },
      "source": [
        "[![Open In Colab](https://colab.research.google.com/assets/colab-badge.svg)](https://colab.research.google.com/github/WCC-Engineering/pa2-functions-loops-and-branching-BlakeSneveGit/blob/main/problem1_thermistor_calibration.ipynb)"
      ]
    },
    {
      "cell_type": "markdown",
      "metadata": {
        "id": "uIdI2CNe5Zch"
      },
      "source": [
        "**Important Note:** If you encounter a \"File not found\" error when using the Colab button, your instructor can fix this by running the \"Fix Colab Links in Student Repository\" workflow."
      ]
    },
    {
      "cell_type": "markdown",
      "metadata": {
        "id": "FKc1fFRg5Zch"
      },
      "source": [
        "# Problem 1: Thermistor Temperature Calibration\n",
        "\n",
        "## Description\n",
        "A thermistor is a resistor with a temperature-dependent resistance. These electronic devices are used for temperature measurement in a variety of applications.\n",
        "\n",
        "The temperature can be calculated from a measured resistance with the following formula:\n",
        "\n",
        "$$T = \\frac{1}{a + b \\cdot \\ln(R) + c \\cdot (\\ln(R))^3}$$\n",
        "\n",
        "where the calibration constants $a$, $b$, and $c$ are characteristic of specific thermistors and generally supplied by the manufacturer.\n",
        "\n",
        "A test engineer is confirming the given calibration formula for a batch of thermistors. For each thermistor, they measure the resistance for a range of known temperatures and use that resistance to calculate the temperature using the calibration formula. Then they compute the relative error for each measurement with the following formula:\n",
        "\n",
        "$$\\text{error} = \\frac{T_{\\text{known}} - T(R)_{\\text{calculated}}}{T_{\\text{known}}}$$\n"
      ]
    },
    {
      "cell_type": "markdown",
      "metadata": {
        "id": "0K7_D9Zt5Zci"
      },
      "source": [
        "## Task\n",
        "\n",
        "Define a function called `analyze_thermistor` to automate this calibration and error analysis. Your function should accept the following parameters:\n",
        "\n",
        "1. `known_temps`: An array of known temperature values in degrees Celsius\n",
        "2. `resistances`: An array of measured resistance values corresponding to each temperature\n",
        "3. `error_tolerance`: A scalar variable that defines the error tolerance for the measurement (as a decimal)\n",
        "\n",
        "The function should return the following two separate arrays (in this order):\n",
        "1. `relative_errors`: An array giving the relative error corresponding to each measurement\n",
        "2. `out_of_tolerance_temps`: An array with only the temperatures for which the error is greater than the input error tolerance. These temperatures should be in the same order in which they appear in the input parameter.\n",
        "\n",
        "Use the following manufacturer-supplied values for the calibration coefficients:\n",
        "- $a = 1.527236 \\times 10^{-2}$\n",
        "- $b = -3.559736 \\times 10^{-3}$\n",
        "- $c = 9.573821 \\times 10^{-5}$"
      ]
    },
    {
      "cell_type": "code",
      "execution_count": 6,
      "metadata": {
        "id": "hFYYDUHo5Zck",
        "outputId": "928a5001-3669-46a8-ab40-f77f7f6df4c2",
        "colab": {
          "base_uri": "https://localhost:8080/",
          "height": 383
        }
      },
      "outputs": [
        {
          "output_type": "error",
          "ename": "FileNotFoundError",
          "evalue": "thermisData.dat not found.",
          "traceback": [
            "\u001b[0;31m---------------------------------------------------------------------------\u001b[0m",
            "\u001b[0;31mFileNotFoundError\u001b[0m                         Traceback (most recent call last)",
            "\u001b[0;32m<ipython-input-6-5a4377c31f39>\u001b[0m in \u001b[0;36m<cell line: 0>\u001b[0;34m()\u001b[0m\n\u001b[1;32m      3\u001b[0m \u001b[0;34m\u001b[0m\u001b[0m\n\u001b[1;32m      4\u001b[0m \u001b[0;31m# Load the data file\u001b[0m\u001b[0;34m\u001b[0m\u001b[0;34m\u001b[0m\u001b[0m\n\u001b[0;32m----> 5\u001b[0;31m \u001b[0mdata\u001b[0m \u001b[0;34m=\u001b[0m \u001b[0mnp\u001b[0m\u001b[0;34m.\u001b[0m\u001b[0mloadtxt\u001b[0m\u001b[0;34m(\u001b[0m\u001b[0;34m'thermisData.dat'\u001b[0m\u001b[0;34m)\u001b[0m\u001b[0;34m\u001b[0m\u001b[0;34m\u001b[0m\u001b[0m\n\u001b[0m\u001b[1;32m      6\u001b[0m \u001b[0;34m\u001b[0m\u001b[0m\n\u001b[1;32m      7\u001b[0m \u001b[0;31m# Extract resistance (first column) and temperature (second column) values\u001b[0m\u001b[0;34m\u001b[0m\u001b[0;34m\u001b[0m\u001b[0m\n",
            "\u001b[0;32m/usr/local/lib/python3.11/dist-packages/numpy/lib/_npyio_impl.py\u001b[0m in \u001b[0;36mloadtxt\u001b[0;34m(fname, dtype, comments, delimiter, converters, skiprows, usecols, unpack, ndmin, encoding, max_rows, quotechar, like)\u001b[0m\n\u001b[1;32m   1379\u001b[0m         \u001b[0mdelimiter\u001b[0m \u001b[0;34m=\u001b[0m \u001b[0mdelimiter\u001b[0m\u001b[0;34m.\u001b[0m\u001b[0mdecode\u001b[0m\u001b[0;34m(\u001b[0m\u001b[0;34m'latin1'\u001b[0m\u001b[0;34m)\u001b[0m\u001b[0;34m\u001b[0m\u001b[0;34m\u001b[0m\u001b[0m\n\u001b[1;32m   1380\u001b[0m \u001b[0;34m\u001b[0m\u001b[0m\n\u001b[0;32m-> 1381\u001b[0;31m     arr = _read(fname, dtype=dtype, comment=comment, delimiter=delimiter,\n\u001b[0m\u001b[1;32m   1382\u001b[0m                 \u001b[0mconverters\u001b[0m\u001b[0;34m=\u001b[0m\u001b[0mconverters\u001b[0m\u001b[0;34m,\u001b[0m \u001b[0mskiplines\u001b[0m\u001b[0;34m=\u001b[0m\u001b[0mskiprows\u001b[0m\u001b[0;34m,\u001b[0m \u001b[0musecols\u001b[0m\u001b[0;34m=\u001b[0m\u001b[0musecols\u001b[0m\u001b[0;34m,\u001b[0m\u001b[0;34m\u001b[0m\u001b[0;34m\u001b[0m\u001b[0m\n\u001b[1;32m   1383\u001b[0m                 \u001b[0munpack\u001b[0m\u001b[0;34m=\u001b[0m\u001b[0munpack\u001b[0m\u001b[0;34m,\u001b[0m \u001b[0mndmin\u001b[0m\u001b[0;34m=\u001b[0m\u001b[0mndmin\u001b[0m\u001b[0;34m,\u001b[0m \u001b[0mencoding\u001b[0m\u001b[0;34m=\u001b[0m\u001b[0mencoding\u001b[0m\u001b[0;34m,\u001b[0m\u001b[0;34m\u001b[0m\u001b[0;34m\u001b[0m\u001b[0m\n",
            "\u001b[0;32m/usr/local/lib/python3.11/dist-packages/numpy/lib/_npyio_impl.py\u001b[0m in \u001b[0;36m_read\u001b[0;34m(fname, delimiter, comment, quote, imaginary_unit, usecols, skiplines, max_rows, converters, ndmin, unpack, dtype, encoding)\u001b[0m\n\u001b[1;32m    995\u001b[0m             \u001b[0mfname\u001b[0m \u001b[0;34m=\u001b[0m \u001b[0mos\u001b[0m\u001b[0;34m.\u001b[0m\u001b[0mfspath\u001b[0m\u001b[0;34m(\u001b[0m\u001b[0mfname\u001b[0m\u001b[0;34m)\u001b[0m\u001b[0;34m\u001b[0m\u001b[0;34m\u001b[0m\u001b[0m\n\u001b[1;32m    996\u001b[0m         \u001b[0;32mif\u001b[0m \u001b[0misinstance\u001b[0m\u001b[0;34m(\u001b[0m\u001b[0mfname\u001b[0m\u001b[0;34m,\u001b[0m \u001b[0mstr\u001b[0m\u001b[0;34m)\u001b[0m\u001b[0;34m:\u001b[0m\u001b[0;34m\u001b[0m\u001b[0;34m\u001b[0m\u001b[0m\n\u001b[0;32m--> 997\u001b[0;31m             \u001b[0mfh\u001b[0m \u001b[0;34m=\u001b[0m \u001b[0mnp\u001b[0m\u001b[0;34m.\u001b[0m\u001b[0mlib\u001b[0m\u001b[0;34m.\u001b[0m\u001b[0m_datasource\u001b[0m\u001b[0;34m.\u001b[0m\u001b[0mopen\u001b[0m\u001b[0;34m(\u001b[0m\u001b[0mfname\u001b[0m\u001b[0;34m,\u001b[0m \u001b[0;34m'rt'\u001b[0m\u001b[0;34m,\u001b[0m \u001b[0mencoding\u001b[0m\u001b[0;34m=\u001b[0m\u001b[0mencoding\u001b[0m\u001b[0;34m)\u001b[0m\u001b[0;34m\u001b[0m\u001b[0;34m\u001b[0m\u001b[0m\n\u001b[0m\u001b[1;32m    998\u001b[0m             \u001b[0;32mif\u001b[0m \u001b[0mencoding\u001b[0m \u001b[0;32mis\u001b[0m \u001b[0;32mNone\u001b[0m\u001b[0;34m:\u001b[0m\u001b[0;34m\u001b[0m\u001b[0;34m\u001b[0m\u001b[0m\n\u001b[1;32m    999\u001b[0m                 \u001b[0mencoding\u001b[0m \u001b[0;34m=\u001b[0m \u001b[0mgetattr\u001b[0m\u001b[0;34m(\u001b[0m\u001b[0mfh\u001b[0m\u001b[0;34m,\u001b[0m \u001b[0;34m'encoding'\u001b[0m\u001b[0;34m,\u001b[0m \u001b[0;34m'latin1'\u001b[0m\u001b[0;34m)\u001b[0m\u001b[0;34m\u001b[0m\u001b[0;34m\u001b[0m\u001b[0m\n",
            "\u001b[0;32m/usr/local/lib/python3.11/dist-packages/numpy/lib/_datasource.py\u001b[0m in \u001b[0;36mopen\u001b[0;34m(path, mode, destpath, encoding, newline)\u001b[0m\n\u001b[1;32m    190\u001b[0m \u001b[0;34m\u001b[0m\u001b[0m\n\u001b[1;32m    191\u001b[0m     \u001b[0mds\u001b[0m \u001b[0;34m=\u001b[0m \u001b[0mDataSource\u001b[0m\u001b[0;34m(\u001b[0m\u001b[0mdestpath\u001b[0m\u001b[0;34m)\u001b[0m\u001b[0;34m\u001b[0m\u001b[0;34m\u001b[0m\u001b[0m\n\u001b[0;32m--> 192\u001b[0;31m     \u001b[0;32mreturn\u001b[0m \u001b[0mds\u001b[0m\u001b[0;34m.\u001b[0m\u001b[0mopen\u001b[0m\u001b[0;34m(\u001b[0m\u001b[0mpath\u001b[0m\u001b[0;34m,\u001b[0m \u001b[0mmode\u001b[0m\u001b[0;34m,\u001b[0m \u001b[0mencoding\u001b[0m\u001b[0;34m=\u001b[0m\u001b[0mencoding\u001b[0m\u001b[0;34m,\u001b[0m \u001b[0mnewline\u001b[0m\u001b[0;34m=\u001b[0m\u001b[0mnewline\u001b[0m\u001b[0;34m)\u001b[0m\u001b[0;34m\u001b[0m\u001b[0;34m\u001b[0m\u001b[0m\n\u001b[0m\u001b[1;32m    193\u001b[0m \u001b[0;34m\u001b[0m\u001b[0m\n\u001b[1;32m    194\u001b[0m \u001b[0;34m\u001b[0m\u001b[0m\n",
            "\u001b[0;32m/usr/local/lib/python3.11/dist-packages/numpy/lib/_datasource.py\u001b[0m in \u001b[0;36mopen\u001b[0;34m(self, path, mode, encoding, newline)\u001b[0m\n\u001b[1;32m    530\u001b[0m                                       encoding=encoding, newline=newline)\n\u001b[1;32m    531\u001b[0m         \u001b[0;32melse\u001b[0m\u001b[0;34m:\u001b[0m\u001b[0;34m\u001b[0m\u001b[0;34m\u001b[0m\u001b[0m\n\u001b[0;32m--> 532\u001b[0;31m             \u001b[0;32mraise\u001b[0m \u001b[0mFileNotFoundError\u001b[0m\u001b[0;34m(\u001b[0m\u001b[0;34mf\"{path} not found.\"\u001b[0m\u001b[0;34m)\u001b[0m\u001b[0;34m\u001b[0m\u001b[0;34m\u001b[0m\u001b[0m\n\u001b[0m\u001b[1;32m    533\u001b[0m \u001b[0;34m\u001b[0m\u001b[0m\n\u001b[1;32m    534\u001b[0m \u001b[0;34m\u001b[0m\u001b[0m\n",
            "\u001b[0;31mFileNotFoundError\u001b[0m: thermisData.dat not found."
          ]
        }
      ],
      "source": [
        "import numpy as np\n",
        "import matplotlib.pyplot as plt\n",
        "\n",
        "# Load the data file\n",
        "data = np.loadtxt('thermisData.dat')\n",
        "\n",
        "# Extract resistance (first column) and temperature (second column) values\n",
        "resistances = data[:, 0]  # ohms\n",
        "known_temps = data[:, 1]  # degrees Celsius\n",
        "\n",
        "# Manufacturer supplied calibration coefficients\n",
        "a = 1.527236e-2\n",
        "b = -3.559736e-3\n",
        "c = 9.573821e-5"
      ]
    },
    {
      "cell_type": "markdown",
      "metadata": {
        "id": "BOMsS_hb5Zcl"
      },
      "source": [
        "## Task 1: Define the function to calculate temperature from resistance\n",
        "\n",
        "First, create a function called `calculate_temperature` that computes the temperature from a resistance value using the calibration formula and the given coefficients."
      ]
    },
    {
      "cell_type": "code",
      "execution_count": null,
      "metadata": {
        "id": "2RzDg-c25Zcl"
      },
      "outputs": [],
      "source": [
        "def calculate_temperature(resistance):\n",
        "    \"\"\"Calculate temperature from resistance using the thermistor formula.\n",
        "\n",
        "    Parameters:\n",
        "    resistance (float or array): The resistance value(s) in ohms\n",
        "\n",
        "    Returns:\n",
        "    float or array: The calculated temperature(s) in degrees Celsius\n",
        "    \"\"\"\n",
        "    # Your code here\n",
        "    known_temps = [1/(a+(b*np.log(resistance)))]\n",
        ""
      ]
    },
    {
      "cell_type": "markdown",
      "metadata": {
        "id": "eYPp8eo35Zcm"
      },
      "source": [
        "## Task 2: Define the main analysis function\n",
        "\n",
        "Now, define the main function `analyze_thermistor` that calculates relative errors and identifies out-of-tolerance temperatures. Make sure your function returns two separate arrays, not a tuple of arrays."
      ]
    },
    {
      "cell_type": "code",
      "execution_count": null,
      "metadata": {
        "id": "6erO2Jgn5Zcn"
      },
      "outputs": [],
      "source": [
        "def analyze_thermistor(known_temps, resistances, error_tolerance):\n",
        "    \"\"\"Analyze thermistor measurements and identify out-of-tolerance values.\n",
        "\n",
        "    Parameters:\n",
        "    known_temps (array): Array of known temperature values in degrees Celsius\n",
        "    resistances (array): Array of measured resistance values corresponding to each temperature\n",
        "    error_tolerance (float): Error tolerance for measurements (as a decimal)\n",
        "\n",
        "    Returns:\n",
        "    numpy.ndarray: Array of relative errors for each measurement\n",
        "    numpy.ndarray: Array of temperatures where error exceeds tolerance\n",
        "    \"\"\"\n",
        "    # Your code here\n",
        "\n",
        "    # IMPORTANT: Return two separate arrays (not a tuple)\n",
        "    # Example of proper return format: return relative_errors, out_of_tolerance_temps\n",
        ""
      ]
    },
    {
      "cell_type": "markdown",
      "metadata": {
        "id": "Rw19S2cf5Zco"
      },
      "source": [
        "## Task 3: Test your function\n",
        "\n",
        "Test your function with the loaded data and an error tolerance of 0.05 (5%). Display the results in a clear format."
      ]
    },
    {
      "cell_type": "code",
      "execution_count": null,
      "metadata": {
        "id": "sMTVkTgP5Zcp"
      },
      "outputs": [],
      "source": [
        "# Test the function with 5% error tolerance\n",
        "# Your code here\n"
      ]
    },
    {
      "cell_type": "markdown",
      "metadata": {
        "id": "5PHHNwAo5Zcq"
      },
      "source": [
        "## Task 4: Visualize the results\n",
        "\n",
        "Create a visualization to show:\n",
        "1. The known temperatures vs. calculated temperatures\n",
        "2. The relative errors across the temperature range, highlighting out-of-tolerance points"
      ]
    },
    {
      "cell_type": "code",
      "execution_count": null,
      "metadata": {
        "id": "XFUvrPZv5Zcq"
      },
      "outputs": [],
      "source": [
        "# Create visualization\n",
        "# Your code here\n"
      ]
    }
  ],
  "metadata": {
    "kernelspec": {
      "display_name": "Python 3",
      "language": "python",
      "name": "python3"
    },
    "language_info": {
      "codemirror_mode": {
        "name": "ipython",
        "version": 3
      },
      "file_extension": ".py",
      "mimetype": "text/x-python",
      "name": "python",
      "nbconvert_exporter": "python",
      "pygments_lexer": "ipython3",
      "version": "3.8.5"
    },
    "colab": {
      "provenance": []
    }
  },
  "nbformat": 4,
  "nbformat_minor": 0
}