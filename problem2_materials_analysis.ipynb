{
  "cells": [
    {
      "cell_type": "markdown",
      "metadata": {
        "id": "YkJtlaPYlHQ6"
      },
      "source": [
        "[![Open In Colab](https://colab.research.google.com/assets/colab-badge.svg)](https://colab.research.google.com/github/WCC-Engineering/pa1-introduction-to-python-numpy-and-data-visualization-BlakeSneveGit/blob/main/problem2_materials_analysis.ipynb)"
      ]
    },
    {
      "cell_type": "markdown",
      "metadata": {
        "id": "si9-M0k5lHQ8"
      },
      "source": [
        "# Problem 2: Material Properties Analysis with NumPy\n",
        "\n",
        "## Description\n",
        "You are analyzing material properties for a civil engineering project. Use NumPy to process and analyze arrays of material data.\n",
        "\n",
        "## Tasks\n",
        "1. Create NumPy arrays for different construction materials:\n",
        "   - Name array (strings): [\"Concrete\", \"Steel\", \"Aluminum\", \"Glass\", \"Wood\", \"Copper\", \"Titanium\"]\n",
        "   - Density array (kg/m³, float): [2400, 7850, 2700, 2500, 550, 8960, 4500]\n",
        "   - Category array (integers, representing material types: 1=metal, 2=ceramic, 3=organic): [2, 1, 1, 2, 3, 1, 1]\n",
        "2. Convert the densities from kg/m³ to lb/ft³ (conversion factor: 1 kg/m³ = 0.06242 lb/ft³)\n",
        "3. Calculate the mass of each material needed for a beam with dimensions 3m × 0.2m × 0.2m\n",
        "4. Identify and print:\n",
        "   - The lightest and heaviest materials by name and density\n",
        "   - Average density of all materials\n",
        "   - All metal materials (where category = 1) with their properties\n",
        "   - Materials with density greater than 2600 kg/m³\n",
        "5. Create a new array with the materials sorted by density (lowest to highest), maintaining the relationship between material names and their properties"
      ]
    },
    {
      "cell_type": "code",
      "execution_count": 33,
      "metadata": {
        "id": "pZV0slBWlHQ8"
      },
      "outputs": [],
      "source": [
        "import numpy as np\n",
        "\n"
      ]
    },
    {
      "cell_type": "markdown",
      "metadata": {
        "id": "iwLG0HnAlHQ9"
      },
      "source": [
        "## Task 1: Create NumPy arrays for material properties\n",
        "\n",
        "Create the following NumPy arrays:\n",
        "- `names_array` for material names\n",
        "- `densities_array` for densities in kg/m³\n",
        "- `categories_array` for material categories"
      ]
    },
    {
      "cell_type": "code",
      "execution_count": 41,
      "metadata": {
        "id": "FUO1clW6lHQ-"
      },
      "outputs": [],
      "source": [
        "# Your code here\n",
        "names_array = [\"Concrete\", \"Steel\", \"Aluminum\", \"Glass\", \"Wood\", \"Copper\", \"Titanium\"]\n",
        "densities_array = np.array([2400, 7850, 2700, 2500, 550, 8960, 4500])\n",
        "categories_array = [2, 1, 1, 2, 3, 1, 1]\n",
        "\n",
        "#print (names_array)\n",
        "#print (densities_array)\n",
        "#print (categories_array)\n",
        "\n"
      ]
    },
    {
      "cell_type": "markdown",
      "metadata": {
        "id": "crsajEl0lHQ-"
      },
      "source": [
        "## Task 2: Convert densities to lb/ft³\n",
        "\n",
        "Create a new array called `densities_lbft3` containing the converted densities."
      ]
    },
    {
      "cell_type": "code",
      "execution_count": 35,
      "metadata": {
        "id": "pMLBWZ5elHQ_"
      },
      "outputs": [],
      "source": [
        "# Your code here\n",
        "densities_lbft3 = np.multiply(densities_array, 0.06242)\n",
        "#print (densities_lbft3)"
      ]
    },
    {
      "cell_type": "markdown",
      "metadata": {
        "id": "iMQRkwGblHQ_"
      },
      "source": [
        "## Task 3: Calculate mass of material needed for the beam\n",
        "\n",
        "Create an array called `mass_kg` containing the mass of each material needed for the beam."
      ]
    },
    {
      "cell_type": "code",
      "execution_count": 36,
      "metadata": {
        "id": "R0dm-D_ilHRA",
        "outputId": "1ccc0a4c-fbdd-4c9b-e967-19f7c813373b",
        "colab": {
          "base_uri": "https://localhost:8080/"
        }
      },
      "outputs": [
        {
          "output_type": "stream",
          "name": "stdout",
          "text": [
            "[ 288.   942.   324.   300.    66.  1075.2  540. ]\n"
          ]
        }
      ],
      "source": [
        "# Your code here\n",
        "v = 3*.2*.2 # units are in meter\n",
        "mass_kg = np.multiply(densities_array,v)\n",
        "print (mass_kg)"
      ]
    },
    {
      "cell_type": "markdown",
      "metadata": {
        "id": "o9JszX1QlHRB"
      },
      "source": [
        "## Task 4: Analyze the material properties"
      ]
    },
    {
      "cell_type": "code",
      "execution_count": 37,
      "metadata": {
        "id": "I8j976kqlHRB"
      },
      "outputs": [],
      "source": [
        "# a. Find lightest and heaviest materials\n",
        "# Create variables called `lightest_index` and `heaviest_index` to store the indexes\n",
        "# Your code here\n",
        "\n",
        "lightest_index = np.argmin(mass_kg) # mass_kg[1:(np.size(mass_kg)/2)] this is what i was trying, python did not like it. gemini let me know numpy already has a function for what i was trying to do\n",
        "heaviest_index = np.argmax(mass_kg) # mass_kg[(np.size(mass_kg)/2)+1:np.size(mass_kg)]\n"
      ]
    },
    {
      "cell_type": "code",
      "execution_count": 38,
      "metadata": {
        "id": "QfiGZLC5lHRD"
      },
      "outputs": [],
      "source": [
        "# b. Calculate average density\n",
        "# Create a variable called `average_density` to store the average density in kg/m³\n",
        "# Your code here\n",
        "average_density = np.mean(densities_array)\n"
      ]
    },
    {
      "cell_type": "code",
      "execution_count": 39,
      "metadata": {
        "id": "85tdR8wplHRD"
      },
      "outputs": [],
      "source": [
        "# c. Identify all metal materials (category = 1)\n",
        "# Create a boolean mask called `metal_mask` where True indicates a metal material\n",
        "# Your code here\n",
        "metal_mask = categories_array == 1\n"
      ]
    },
    {
      "cell_type": "code",
      "execution_count": 42,
      "metadata": {
        "id": "hutTUYZPlHRD"
      },
      "outputs": [],
      "source": [
        "# d. Find materials with density > 2600 kg/m³\n",
        "# Create a boolean mask called `high_density_mask` where True indicates density > 2600 kg/m³\n",
        "# Your code here\n",
        "high_density_mask = densities_array > 2600"
      ]
    },
    {
      "cell_type": "markdown",
      "metadata": {
        "id": "-pYj0BF4lHRE"
      },
      "source": [
        "## Task 5: Sort materials by density (lowest to highest)\n",
        "\n",
        "Create a sorted indices array called `sorted_indices` to represent materials in order of ascending density."
      ]
    },
    {
      "cell_type": "code",
      "execution_count": 44,
      "metadata": {
        "id": "TXdzn_0DlHRE",
        "outputId": "9da3acbc-2c7f-44ed-bebb-24a1dd7515fa",
        "colab": {
          "base_uri": "https://localhost:8080/"
        }
      },
      "outputs": [
        {
          "output_type": "stream",
          "name": "stdout",
          "text": [
            "[4 0 3 2 6 1 5]\n"
          ]
        }
      ],
      "source": [
        "# Your code here\n",
        "sorted_indices = np.argsort(densities_array)\n",
        "print (sorted_indices)"
      ]
    }
  ],
  "metadata": {
    "kernelspec": {
      "display_name": "Python 3",
      "language": "python",
      "name": "python3"
    },
    "language_info": {
      "codemirror_mode": {
        "name": "ipython",
        "version": 3
      },
      "file_extension": ".py",
      "mimetype": "text/x-python",
      "name": "python",
      "nbconvert_exporter": "python",
      "pygments_lexer": "ipython3",
      "version": "3.8.5"
    },
    "colab": {
      "provenance": []
    }
  },
  "nbformat": 4,
  "nbformat_minor": 0
}