{
  "cells": [
    {
      "cell_type": "markdown",
      "metadata": {
        "id": "R5IQpJGEmNXk"
      },
      "source": [
        "[![Open In Colab](https://colab.research.google.com/assets/colab-badge.svg)](https://colab.research.google.com/github/WCC-Engineering/pa1-introduction-to-python-numpy-and-data-visualization-BlakeSneveGit/blob/main/problem4_engine_efficiency.ipynb)"
      ]
    },
    {
      "cell_type": "markdown",
      "metadata": {
        "id": "Twk1y4JmmNXm"
      },
      "source": [
        "**Important Note:** If you encounter a \"File not found\" error when using the Colab button, your instructor can fix this by running the \"Fix Colab Links in Student Repository\" workflow."
      ]
    },
    {
      "cell_type": "markdown",
      "metadata": {
        "id": "-alM-fCNmNXn"
      },
      "source": [
        "# Problem 4: Engineering Data Analysis and Visualization\n",
        "\n",
        "## Description\n",
        "You have collected temperature and efficiency data for a heat engine operating under various conditions. Use Python, NumPy, and Matplotlib to analyze and visualize this relationship.\n",
        "\n",
        "## Tasks\n",
        "1. Create arrays for:\n",
        "   - Temperature differences (ΔT) from 50°C to 500°C in 50°C increments\n",
        "   - Theoretical (Carnot) efficiency: η = 1 - (300 / (300 + ΔT)), where 300K is the cold reservoir temperature\n",
        "   - Actual measured efficiency values: [0.08, 0.15, 0.21, 0.25, 0.28, 0.31, 0.33, 0.35, 0.36, 0.37]\n",
        "2. Calculate for each temperature point:\n",
        "   - Efficiency difference (theoretical - actual)\n",
        "   - Percentage of theoretical efficiency achieved (actual/theoretical × 100%)\n",
        "3. Create a figure with two subplots:\n",
        "   - First subplot: Line plot comparing theoretical and actual efficiencies vs. temperature difference\n",
        "   - Second subplot: Bar chart showing the percentage of theoretical efficiency achieved at each temperature\n",
        "4. Properly format both plots with:\n",
        "   - Clear titles\n",
        "   - Labeled axes with units\n",
        "   - Appropriate legend\n",
        "   - Grid lines for readability\n",
        "   - A different color scheme for each subplot"
      ]
    },
    {
      "cell_type": "code",
      "execution_count": 2,
      "metadata": {
        "id": "SdGlcJOimNXo"
      },
      "outputs": [],
      "source": [
        "import numpy as np\n",
        "import matplotlib.pyplot as plt\n",
        "\n",
        "# Provided data\n",
        "actual_efficiency = [0.08, 0.15, 0.21, 0.25, 0.28, 0.31, 0.33, 0.35, 0.36, 0.37]  # as decimal values\n",
        "cold_reservoir_temp = 300  # Kelvin"
      ]
    },
    {
      "cell_type": "markdown",
      "metadata": {
        "id": "qJORbOHqmNXp"
      },
      "source": [
        "## Task 1: Create arrays"
      ]
    },
    {
      "cell_type": "code",
      "execution_count": 27,
      "metadata": {
        "colab": {
          "base_uri": "https://localhost:8080/"
        },
        "id": "e28J5lAdmNXp",
        "outputId": "31acac97-2084-44c6-f059-06d371fe6e09"
      },
      "outputs": [
        {
          "output_type": "stream",
          "name": "stdout",
          "text": [
            "[323.15 373.15 423.15 473.15 523.15 573.15 623.15 673.15 723.15 773.15]\n"
          ]
        }
      ],
      "source": [
        "# a. Temperature differences array\n",
        "# Create an array called `delta_T` with values from 50°C to 500°C in 50°C increments\n",
        "# Your code here\n",
        "delta_T = np.arange(50,501,50)+273.15\n",
        "\n",
        "print (delta_T)\n"
      ]
    },
    {
      "cell_type": "code",
      "execution_count": 28,
      "metadata": {
        "id": "Jbc0p4fLmNXr"
      },
      "outputs": [],
      "source": [
        "# b. Theoretical (Carnot) efficiency array\n",
        "# Create an array called `theoretical_efficiency` containing the theoretical efficiency values\n",
        "# Your code here\n",
        "theoretical_efficiency = 1-(300/(300+delta_T))\n",
        "\n",
        "#print (theoretical_efficiency)\n"
      ]
    },
    {
      "cell_type": "code",
      "execution_count": 31,
      "metadata": {
        "colab": {
          "base_uri": "https://localhost:8080/"
        },
        "id": "HCm56skwmNXt",
        "outputId": "b7511876-6c57-43bc-cba5-b1435c3277b6"
      },
      "outputs": [
        {
          "output_type": "stream",
          "name": "stdout",
          "text": [
            "[0.08 0.15 0.21 0.25 0.28 0.31 0.33 0.35 0.36 0.37]\n"
          ]
        }
      ],
      "source": [
        "# c. Convert actual efficiencies to a NumPy array\n",
        "# Create an array called `actual_efficiency_array` containing the provided actual efficiency values\n",
        "# Your code here\n",
        "\n",
        "actual_efficiency_array = np.array([0.08, 0.15, 0.21, 0.25, 0.28, 0.31, 0.33, 0.35, 0.36, 0.37])\n",
        "\n",
        "print ( actual_efficiency_array)"
      ]
    },
    {
      "cell_type": "markdown",
      "metadata": {
        "id": "zAw3dJpVmNXx"
      },
      "source": [
        "## Task 2: Calculate efficiency metrics"
      ]
    },
    {
      "cell_type": "code",
      "execution_count": 30,
      "metadata": {
        "id": "3_uhVxlcmNXy"
      },
      "outputs": [],
      "source": [
        "# a. Efficiency difference\n",
        "# Create an array called `efficiency_difference` to store the difference between theoretical and actual efficiency\n",
        "# Your code here\n",
        "\n",
        "efficiency_difference = (theoretical_efficiency-actual_efficiency)\n"
      ]
    },
    {
      "cell_type": "code",
      "execution_count": 32,
      "metadata": {
        "id": "UoQXkQJ-mNXz"
      },
      "outputs": [],
      "source": [
        "# b. Percentage of theoretical efficiency achieved\n",
        "# Create an array called `efficiency_percentage` to store the percentage of theoretical efficiency achieved\n",
        "# Your code here\n",
        "\n",
        "efficiency_percentage = (actual_efficiency_array/theoretical_efficiency)/100\n",
        "\n"
      ]
    },
    {
      "cell_type": "markdown",
      "metadata": {
        "id": "KLukq1XUmNX1"
      },
      "source": [
        "## Task 3 & 4: Create visualizations with proper formatting"
      ]
    },
    {
      "cell_type": "code",
      "execution_count": null,
      "metadata": {
        "id": "y3QJ9OyZmNX2"
      },
      "outputs": [],
      "source": [
        "# Set up figure and subplots\n",
        "# Your code here\n",
        "plt.figure(figsize=(10, 10))\n",
        "\n",
        "# First subplot: Line plot of efficiencies\n",
        "# Your code here\n",
        "\n",
        "\n",
        "# Second subplot: Bar chart of achievement percentage\n",
        "# Your code here\n",
        "\n",
        "\n",
        "# Add titles, labels, legends and grid to both plots\n",
        "# Your code here\n",
        "\n",
        "\n",
        "# Show the plot\n",
        "plt.tight_layout()\n",
        "plt.show()"
      ]
    }
  ],
  "metadata": {
    "kernelspec": {
      "display_name": "Python 3",
      "language": "python",
      "name": "python3"
    },
    "language_info": {
      "codemirror_mode": {
        "name": "ipython",
        "version": 3
      },
      "file_extension": ".py",
      "mimetype": "text/x-python",
      "name": "python",
      "nbconvert_exporter": "python",
      "pygments_lexer": "ipython3",
      "version": "3.8.5"
    },
    "colab": {
      "provenance": []
    }
  },
  "nbformat": 4,
  "nbformat_minor": 0
}